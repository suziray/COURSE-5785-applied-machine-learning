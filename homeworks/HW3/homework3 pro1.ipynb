{
 "cells": [
  {
   "cell_type": "code",
   "execution_count": 90,
   "metadata": {
    "collapsed": true,
    "scrolled": true
   },
   "outputs": [],
   "source": [
    "import os\n",
    "import re\n",
    "import numpy as np\n",
    "import pandas as pd\n",
    "import string\n",
    "import copy\n",
    "from sklearn import linear_model\n",
    "from nltk.stem.arlstem import ARLSTem\n",
    "from nltk.stem import WordNetLemmatizer\n",
    "from operator import itemgetter, attrgetter\n",
    "from sklearn.naive_bayes import GaussianNB\n",
    "from matplotlib import pylab as plt\n",
    "\n",
    "current_location = os.getcwd()\n",
    "type(current_location)\n",
    "amazon_location = current_location+\"/sentiment labelled sentences/amazon_cells_labelled.txt\"\n",
    "yelp_location = current_location+\"/sentiment labelled sentences/yelp_labelled.txt\"\n",
    "imbd_location = current_location+\"/sentiment labelled sentences/imdb_labelled.txt\""
   ]
  },
  {
   "cell_type": "code",
   "execution_count": 91,
   "metadata": {},
   "outputs": [
    {
     "name": "stdout",
     "output_type": "stream",
     "text": [
      "0.5\n"
     ]
    }
   ],
   "source": [
    "amazon_data = pd.read_table(amazon_location,header = None)\n",
    "amazon_lable = amazon_data.iloc[:,1]\n",
    "amazon_positive_ratio = float(np.count_nonzero(amazon_lable.values))/amazon_lable.values.size\n",
    "print amazon_positive_ratio"
   ]
  },
  {
   "cell_type": "code",
   "execution_count": 92,
   "metadata": {},
   "outputs": [
    {
     "name": "stdout",
     "output_type": "stream",
     "text": [
      "0.5\n"
     ]
    }
   ],
   "source": [
    "yelp_data = pd.read_table(yelp_location,header = None)\n",
    "yelp_lable = yelp_data.iloc[:,1]\n",
    "yelp_positive_ratio = float(np.count_nonzero(yelp_lable.values))/yelp_lable.values.size\n",
    "print yelp_positive_ratio"
   ]
  },
  {
   "cell_type": "code",
   "execution_count": 93,
   "metadata": {},
   "outputs": [
    {
     "name": "stdout",
     "output_type": "stream",
     "text": [
      "0.5\n"
     ]
    }
   ],
   "source": [
    "imbd_data = pd.read_table(imbd_location,header = None,quoting = 3)\n",
    "imbd_lable = imbd_data.iloc[:,1]\n",
    "imbd_positive_ratio = float(np.count_nonzero(imbd_lable.values))/imbd_lable.values.size\n",
    "print imbd_positive_ratio"
   ]
  },
  {
   "cell_type": "code",
   "execution_count": 94,
   "metadata": {
    "collapsed": true
   },
   "outputs": [],
   "source": [
    "def deleteStemWords(DF):\n",
    "    DF.iloc[:,0] = DF.iloc[:,0].str.lower()\n",
    "    for i in range(0,1000):\n",
    "        DF.iloc[i,0] = ' '+DF.iloc[i,0]\n",
    "    for c in string.punctuation:  \n",
    "        if c == '!':\n",
    "            DF.iloc[:,0] = DF.iloc[:,0].str.replace(c,' !')\n",
    "        elif c == '?':\n",
    "            DF.iloc[:,0] = DF.iloc[:,0].str.replace(c,' ?')\n",
    "        else:\n",
    "            DF.iloc[:,0] = DF.iloc[:,0].str.replace(c,'')\n",
    "    DF.iloc[:,0] = DF.iloc[:,0].str.split()\n",
    "    lemmatizer=WordNetLemmatizer()\n",
    "    for i in range(0,1000):\n",
    "        for j in range(0,len(DF.iloc[i,0])):\n",
    "            if str.isalpha(DF.iloc[i,0][j]):\n",
    "                DF.iloc[i,0][j] = lemmatizer.lemmatize(DF.iloc[i,0][j],pos = 'v')\n",
    "                DF.iloc[i,0][j] = lemmatizer.lemmatize(DF.iloc[i,0][j],pos = 'n')\n",
    "                DF.iloc[i,0][j] = lemmatizer.lemmatize(DF.iloc[i,0][j],pos = 'a')\n",
    "            if type(DF.iloc[i,0][j]) == unicode:\n",
    "                DF.iloc[i,0][j] = DF.iloc[i,0][j].encode(\"ascii\")\n",
    "    return DF"
   ]
  },
  {
   "cell_type": "code",
   "execution_count": 95,
   "metadata": {},
   "outputs": [],
   "source": [
    "amazon_data = deleteStemWords(amazon_data)\n",
    "yelp_data = deleteStemWords(yelp_data)\n",
    "imbd_data = deleteStemWords(imbd_data)"
   ]
  },
  {
   "cell_type": "code",
   "execution_count": 96,
   "metadata": {
    "collapsed": true
   },
   "outputs": [],
   "source": [
    "def trainTest(DF):\n",
    "    DF.iloc[:,0]\n",
    "    DF_train = []\n",
    "    DF_test = []\n",
    "    positive_flag = 0\n",
    "    negetive_flag = 0\n",
    "    for i in range(0,1000):\n",
    "        if positive_flag < 400 or negetive_flag < 400 :\n",
    "            if DF.loc[i,1] == 0 and negetive_flag <400:\n",
    "                negetive_flag += 1 \n",
    "                DF_train.append(list(DF.loc[i,:]))\n",
    "            elif DF.loc[i,1] == 1 and positive_flag <400:\n",
    "                positive_flag += 1   \n",
    "                DF_train.append(list(DF.loc[i,:]))\n",
    "            else:\n",
    "                DF_test.append(list(DF.loc[i,:]))\n",
    "        else:\n",
    "            DF_test.append(list(DF.loc[i,:]))\n",
    "    return(DF_train,DF_test)"
   ]
  },
  {
   "cell_type": "code",
   "execution_count": 97,
   "metadata": {
    "collapsed": true
   },
   "outputs": [],
   "source": [
    "amazon_train,amazon_test = trainTest(amazon_data)\n",
    "yelp_train,yelp_test = trainTest(yelp_data)\n",
    "imbd_train,imbd_test = trainTest(imbd_data)"
   ]
  },
  {
   "cell_type": "code",
   "execution_count": 98,
   "metadata": {
    "collapsed": true
   },
   "outputs": [],
   "source": [
    "all_train = []\n",
    "all_train.extend(amazon_train)\n",
    "all_train.extend(yelp_train)\n",
    "all_train.extend(imbd_train)\n",
    "all_test = []\n",
    "all_test.extend(amazon_test)\n",
    "all_test.extend(yelp_test)\n",
    "all_test.extend(imbd_test)"
   ]
  },
  {
   "cell_type": "code",
   "execution_count": 99,
   "metadata": {
    "collapsed": true
   },
   "outputs": [],
   "source": [
    "train_lable = []\n",
    "for i in range(0,len(all_train)):\n",
    "    train_lable.append(all_train[i][1])\n",
    "test_lable = []\n",
    "for i in range(0,len(all_test)):\n",
    "    test_lable.append(all_test[i][1])"
   ]
  },
  {
   "cell_type": "code",
   "execution_count": 100,
   "metadata": {
    "collapsed": true
   },
   "outputs": [],
   "source": [
    "def creatDic(DF_train):\n",
    "    DF_dic = {}\n",
    "    for i in range(0,800):\n",
    "        for j in range(0,len(DF_train[i][0])):\n",
    "            if DF_dic.get(DF_train[i][0][j]) == None:\n",
    "                DF_dic[DF_train[i][0][j]] = 0\n",
    "    return DF_dic"
   ]
  },
  {
   "cell_type": "code",
   "execution_count": 101,
   "metadata": {
    "collapsed": true
   },
   "outputs": [],
   "source": [
    "all_dic = creatDic(all_train)"
   ]
  },
  {
   "cell_type": "code",
   "execution_count": 102,
   "metadata": {
    "collapsed": true
   },
   "outputs": [],
   "source": [
    "def getFeatures(words_set,dic,gram):\n",
    "    if (gram != 1) and (gram != 2):\n",
    "        return('wrong gram')\n",
    "    feature_matrix = [[None]*len(dic)]*len(words_set)\n",
    "    for i in range(0,len(words_set)):\n",
    "        dic_copy = copy.deepcopy(dic)\n",
    "        feature_matrix[i] = featureVecter(dic_copy,words_set[i][0],gram)\n",
    "    return feature_matrix"
   ]
  },
  {
   "cell_type": "code",
   "execution_count": 103,
   "metadata": {
    "collapsed": true
   },
   "outputs": [],
   "source": [
    "def featureVecter(DF_dic,review,gram):\n",
    "    if gram == 1:\n",
    "        for i in range(0,len(review)):\n",
    "            if DF_dic.get(review[i]) != None:\n",
    "                DF_dic[review[i]] = DF_dic.get(review[i]) + 1\n",
    "    elif gram == 2:\n",
    "        if len(review[0])<2:\n",
    "            if DF_dic.get(review[0]) != None:\n",
    "                DF_dic[review[0]] = DF_dic.get(review[0]) + 1\n",
    "        else:\n",
    "            for i in range(0,len(review)-1):\n",
    "                if DF_dic.get(review[i]+review[i+1]) != None:\n",
    "                    DF_dic[review[i]+review[i+1]] = DF_dic.get(review[i]+review[i+1]) + 1\n",
    "    return DF_dic.values()"
   ]
  },
  {
   "cell_type": "code",
   "execution_count": 104,
   "metadata": {
    "collapsed": true
   },
   "outputs": [],
   "source": [
    "train_features = getFeatures(all_train,all_dic,1)\n",
    "test_features = getFeatures(all_test,all_dic,1)"
   ]
  },
  {
   "cell_type": "code",
   "execution_count": 105,
   "metadata": {},
   "outputs": [
    {
     "data": {
      "image/png": "[encoded data removed]",
      "text/plain": [
       "<matplotlib.figure.Figure at 0x1a22121250>"
      ]
     },
     "metadata": {},
     "output_type": "display_data"
    }
   ],
   "source": [
    "np.set_printoptions(threshold='nan')\n",
    "plt.plot(train_features[3],'.r')\n",
    "plt.show()"
   ]
  },
  {
   "cell_type": "code",
   "execution_count": 106,
   "metadata": {
    "collapsed": true
   },
   "outputs": [],
   "source": [
    "def normalizeFeatures(features):\n",
    "    for i in range(0,len(features)):\n",
    "        if sum(features[i])!=0:\n",
    "            features[i] = np.array(features[i])/float(sum(features[i]))\n",
    "        else:\n",
    "            features[i] = np.array(features[i])"
   ]
  },
  {
   "cell_type": "code",
   "execution_count": 107,
   "metadata": {
    "collapsed": true
   },
   "outputs": [],
   "source": [
    "normalizeFeatures(test_features)\n",
    "normalizeFeatures(train_features)"
   ]
  },
  {
   "cell_type": "code",
   "execution_count": 108,
   "metadata": {
    "collapsed": true
   },
   "outputs": [],
   "source": [
    "def lrImplement(train_features,train_lable,test_features,test_lable):\n",
    "    lr = linear_model.LogisticRegression(multi_class = 'ovr')\n",
    "    lr.fit(train_features,train_lable)\n",
    "    lr_test_pre = lr.predict(test_features).astype(int)\n",
    "    lr_score = lr.score(test_features,test_lable)\n",
    "    lr_confusion_matrix = confusionMatrix(lr_test_pre,test_lable)\n",
    "    return lr_score,lr_confusion_matrix"
   ]
  },
  {
   "cell_type": "code",
   "execution_count": 109,
   "metadata": {
    "collapsed": true
   },
   "outputs": [],
   "source": [
    "def gnbImplement(train_features,train_lable,test_features,test_lable):\n",
    "    gnb = GaussianNB()\n",
    "    gnb_test_pre = gnb.fit(train_features,train_lable).predict(test_features)\n",
    "    gnb_score = gnb.fit(train_features,train_lable).score(test_features,test_lable)\n",
    "    gnb_confusion_matrix = confusionMatrix(gnb_test_pre,test_lable)\n",
    "    return gnb_score,gnb_confusion_matrix"
   ]
  },
  {
   "cell_type": "code",
   "execution_count": 110,
   "metadata": {
    "collapsed": true
   },
   "outputs": [],
   "source": [
    "def confusionMatrix(test_pre,test_lable):\n",
    "    confusion_matrix = [[0 for i in range(2)] for i in range(2)] \n",
    "    for i in range(0,600):\n",
    "        if test_pre[i] == test_lable[i]:\n",
    "            if test_pre[i] == 1:\n",
    "                confusion_matrix[0][0] = confusion_matrix[0][0] + 1        #TP\n",
    "            else:\n",
    "                confusion_matrix[1][1] = confusion_matrix[1][1] + 1        #TF\n",
    "        elif test_pre[i] == 1:\n",
    "            confusion_matrix[1][0] = confusion_matrix[1][0] + 1            #FN\n",
    "        else:\n",
    "            confusion_matrix[0][1] = confusion_matrix[0][1] + 1            #FP\n",
    "    return confusion_matrix"
   ]
  },
  {
   "cell_type": "code",
   "execution_count": 111,
   "metadata": {
    "collapsed": true
   },
   "outputs": [],
   "source": [
    "def mostImportantWords(dic,train_features,length):\n",
    "    lr = linear_model.LogisticRegression(multi_class = 'ovr')\n",
    "    lr.fit(train_features,train_lable)\n",
    "    weight_vector = lr.coef_\n",
    "    sort_index = np.argsort(weight_vector[0])\n",
    "    words_list = []\n",
    "    for i in range(length):\n",
    "        words_list.append(dic.keys()[sort_index[len(sort_index)-1-i]])\n",
    "    return words_list"
   ]
  },
  {
   "cell_type": "code",
   "execution_count": 112,
   "metadata": {},
   "outputs": [
    {
     "name": "stdout",
     "output_type": "stream",
     "text": [
      "the fist 15 most important words are:  ['absolutel', 'good', 'extra', 'and', 'must', 'functionality', '!', 'away', 'very', 'charge', 'price', 'i', 'highly', 'figure', 'care']\n",
      "1 gram logistic regression score: 0.71500\n",
      "1 gram logistic regression confusion matrix: [[198, 102], [69, 231]]\n"
     ]
    }
   ],
   "source": [
    "# logistic regression 1 gram\n",
    "lr_score,lr_confusion_matrix= lrImplement(train_features,train_lable,test_features,test_lable)\n",
    "lr_words_num = 15\n",
    "lr_words = mostImportantWords(all_dic,train_features,lr_words_num)\n",
    "print \"the fist\",lr_words_num,\"most important words are: \", lr_words\n",
    "print \"1 gram logistic regression score:\",'%6.5f'%lr_score\n",
    "print \"1 gram logistic regression confusion matrix:\",lr_confusion_matrix"
   ]
  },
  {
   "cell_type": "code",
   "execution_count": 390,
   "metadata": {},
   "outputs": [
    {
     "name": "stdout",
     "output_type": "stream",
     "text": [
      "1 gram naive bayes score: 0.64167\n",
      "1 gram naive bayes confusion matrix: [[266, 34], [181, 119]]\n"
     ]
    }
   ],
   "source": [
    "# naive bayes 1 gram\n",
    "gnb_score,gnb_confusion_matrix = gnbImplement(train_features,train_lable,test_features,test_lable)\n",
    "print '1 gram naive bayes score:','%6.5f'%gnb_score\n",
    "print \"1 gram naive bayes confusion matrix:\",gnb_confusion_matrix"
   ]
  },
  {
   "cell_type": "code",
   "execution_count": 402,
   "metadata": {
    "collapsed": true
   },
   "outputs": [],
   "source": [
    "# 2-gram modle\n",
    "def creat2GramDic(DF_train):\n",
    "    DF_dic = {}\n",
    "    for i in range(0,800):\n",
    "        if len(DF_train[i][0]) < 2:\n",
    "            if DF_dic.get(DF_train[i][0][0]) == None:\n",
    "                DF_dic[DF_train[i][0][0]] = 0\n",
    "        else:\n",
    "            for j in range(0,len(DF_train[i][0])-1):\n",
    "                if DF_dic.get(DF_train[i][0][j]+DF_train[i][0][j+1]) == None:\n",
    "                    DF_dic[DF_train[i][0][j]+DF_train[i][0][j+1]] = 0\n",
    "    return DF_dic"
   ]
  },
  {
   "cell_type": "code",
   "execution_count": 403,
   "metadata": {
    "collapsed": true
   },
   "outputs": [],
   "source": [
    "all_dic_2g = creat2GramDic(all_train)"
   ]
  },
  {
   "cell_type": "code",
   "execution_count": 404,
   "metadata": {
    "collapsed": true
   },
   "outputs": [],
   "source": [
    "test_features_2g = getFeatures(all_test,all_dic_2g,2)\n",
    "train_features_2g = getFeatures(all_train,all_dic_2g,2)"
   ]
  },
  {
   "cell_type": "code",
   "execution_count": 405,
   "metadata": {
    "collapsed": true
   },
   "outputs": [],
   "source": [
    "normalizeFeatures(test_features_2g)\n",
    "normalizeFeatures(train_features_2g)"
   ]
  },
  {
   "cell_type": "code",
   "execution_count": 398,
   "metadata": {},
   "outputs": [
    {
     "name": "stdout",
     "output_type": "stream",
     "text": [
      "the fist 15 important words are:  ['sometime', 'toreturn', 'ontelephone', 'letyou', u'iplace', u'expect!', u'thatit', 'undergrey', 'ofall', 'solidkeyboard', u'beperhaps', 'nothappy', 'ofuse', 'atan', 'easyto']\n",
      "2 gram logistic regression score: 0.62500\n",
      "2 gram logistic regression confusion matrix: [[137, 163], [62, 238]]\n"
     ]
    }
   ],
   "source": [
    "# logistic regression 2 gram\n",
    "lr_score_2g,lr_confusion_matrix_2g= lrImplement(train_features_2g,train_lable,test_features_2g,test_lable)\n",
    "lr_words_num_2g = 15\n",
    "lr_words_2g = mostImportantWords(all_dic_2g,train_features,lr_words_num_2g)\n",
    "print \"the fist\",lr_words_num,\"important words are: \", lr_words_2g\n",
    "print \"2 gram logistic regression score:\",'%6.5f'%lr_score_2g\n",
    "print \"2 gram logistic regression confusion matrix:\",lr_confusion_matrix_2g"
   ]
  },
  {
   "cell_type": "code",
   "execution_count": 399,
   "metadata": {},
   "outputs": [
    {
     "name": "stdout",
     "output_type": "stream",
     "text": [
      "2 gram naive bayes score: 0.64500\n",
      "2 gram naive bayes confusion matrix: [[262, 38], [175, 125]]\n"
     ]
    }
   ],
   "source": [
    "# naive bayes 2 gram\n",
    "gnb_score_2g,gnb_confusion_matrix_2g = gnbImplement(train_features_2g,train_lable,test_features_2g,test_lable)\n",
    "print \"2 gram naive bayes score:\",'%6.5f'%gnb_score_2g\n",
    "print \"2 gram naive bayes confusion matrix:\",gnb_confusion_matrix_2g"
   ]
  },
  {
   "cell_type": "code",
   "execution_count": 424,
   "metadata": {
    "collapsed": true
   },
   "outputs": [],
   "source": [
    "#PCA\n",
    "def getAverage(data):\n",
    "    average_train_features = data[0]\n",
    "    for i in range(1,len(data)):\n",
    "        average_train_features = average_train_features + data[i]\n",
    "    average_train_features = average_train_features/sum(average_train_features)\n",
    "    return average_train_features"
   ]
  },
  {
   "cell_type": "code",
   "execution_count": 401,
   "metadata": {
    "collapsed": true
   },
   "outputs": [],
   "source": [
    "def computeV(data,q):\n",
    "    U,D,Vt = np.linalg.svd(data)\n",
    "    Vq = np.transpose(Vt[0:q])\n",
    "    return Vq"
   ]
  },
  {
   "cell_type": "code",
   "execution_count": 395,
   "metadata": {
    "collapsed": true
   },
   "outputs": [],
   "source": [
    "def PCA(data,average,q):\n",
    "    Vq = computeV(data,q)\n",
    "    datanew = copy.deepcopy(data)\n",
    "    for i in range(len(data)):\n",
    "        lamda = np.dot(np.transpose(Vq),(data[i]-average))\n",
    "        datanew[i] = average + np.dot(Vq,lamda)\n",
    "    return datanew"
   ]
  },
  {
   "cell_type": "code",
   "execution_count": 429,
   "metadata": {
    "collapsed": true
   },
   "outputs": [],
   "source": [
    "def repetition1GramQ(q):\n",
    "    for qf in q:\n",
    "        train_features_q = PCA(train_features,average_train_features,qf)\n",
    "        test_features_q = PCA(test_features,average_test_features,qf)\n",
    "        normalizeFeatures(test_features_q)\n",
    "        normalizeFeatures(train_features_q)\n",
    "        lr_score_q,lr_confusion_matrix_q= lrImplement(train_features_q,train_lable,test_features_q,test_lable)\n",
    "        lr_words_num_q = 15\n",
    "        lr_words_q = mostImportantWords(all_dic,train_features_q,lr_words_num_q)\n",
    "        print \"the fist\",lr_words_num_q,\"important words are: \", lr_words_q\n",
    "        print \"1 gram logistic regression score:\",'%6.5f'%lr_score_q ,\" with q =\",qf\n",
    "        print \"1 gram logistic regression confusion matrix:\",lr_confusion_matrix_q,\" with q =\",qf\n",
    "        gnb_score_q,gnb_confusion_matrix_q = gnbImplement(train_features_q,train_lable,test_features_q,test_lable)\n",
    "        print \n",
    "        print \"1 gram naive bayes score:\",'%6.5f'%gnb_score_q ,\" with q =\",qf\n",
    "        print \"1 gram naive bayes confusion matrix:\",gnb_confusion_matrix_q,\" with q =\",qf\n",
    "        print '\\n'*2"
   ]
  },
  {
   "cell_type": "code",
   "execution_count": 431,
   "metadata": {
    "collapsed": true
   },
   "outputs": [],
   "source": [
    "def repetition2GramQ(q):\n",
    "    for qf in q:\n",
    "        train_features_q_2g = PCA(train_features_2g,average_train_features_2g,qf)\n",
    "        test_features_q_2g = PCA(test_features_2g,average_test_features_2g,qf)\n",
    "        normalizeFeatures(test_features_q_2g)\n",
    "        normalizeFeatures(train_features_q_2g)\n",
    "        lr_score_q_2g,lr_confusion_matrix_q_2g= lrImplement(train_features_q_2g,train_lable,test_features_q_2g,test_lable)\n",
    "        lr_words_num_q_2g = 15\n",
    "        lr_words_q_2g = mostImportantWords(all_dic_2g,train_features_q_2g,lr_words_num_q_2g)\n",
    "        print \"the fist\",lr_words_num_q_2g,\"important words are: \", lr_words_q_2g        \n",
    "        print \"2 gram logistic regression score:\",'%6.5f'%lr_score_q_2g ,\" with q =\",qf\n",
    "        print \"2 gram logistic regression confusion matrix:\",lr_confusion_matrix_q_2g,\" with q =\",qf\n",
    "        gnb_score_q_2g,gnb_confusion_matrix_q_2g = gnbImplement(train_features_q_2g,train_lable,test_features_q_2g,test_lable)\n",
    "        print \n",
    "        print \"2 gram naive bayes score:\",'%6.5f'%gnb_score_q_2g ,\" with q =\",qf\n",
    "        print \"2 gram naive bayes confusion matrix:\",gnb_confusion_matrix_q_2g,\" with q =\",qf\n",
    "        print '\\n'*2"
   ]
  },
  {
   "cell_type": "code",
   "execution_count": 432,
   "metadata": {
    "collapsed": true
   },
   "outputs": [],
   "source": [
    "average_train_features = getAverage(train_features)\n",
    "average_test_features = getAverage(test_features)\n",
    "average_train_features_2g = getAverage(train_features_2g)\n",
    "average_test_features_2g = getAverage(test_features_2g)"
   ]
  },
  {
   "cell_type": "code",
   "execution_count": 433,
   "metadata": {},
   "outputs": [
    {
     "name": "stdout",
     "output_type": "stream",
     "text": [
      "the fist 15 important words are:  ['absolutel', 'and', 'good', '!', 'very', 'install', 'excellent', 'too', 'price', 'buyerbe', 'a', 'either', 'value', 'include', 'magical']\n",
      "1 gram logistic regression score: 0.58667  with q = 10\n",
      "1 gram logistic regression confusion matrix: [[138, 162], [86, 214]]  with q = 10\n",
      "\n",
      "1 gram naive bayes score: 0.50000  with q = 10\n",
      "1 gram naive bayes confusion matrix: [[300, 0], [300, 0]]  with q = 10\n",
      "\n",
      "\n",
      "\n",
      "the fist 15 important words are:  ['absolutel', 'good', 'and', 'extra', 'functionality', 'must', '!', 'i', 'very', 'place', 'unit', 'switch', 'price', 'excellent', 'an']\n",
      "1 gram logistic regression score: 0.66667  with q = 50\n",
      "1 gram logistic regression confusion matrix: [[179, 121], [79, 221]]  with q = 50\n",
      "\n",
      "1 gram naive bayes score: 0.54833  with q = 50\n",
      "1 gram naive bayes confusion matrix: [[63, 237], [34, 266]]  with q = 50\n",
      "\n",
      "\n",
      "\n",
      "the fist 15 important words are:  ['absolutel', 'good', 'extra', 'and', 'must', 'functionality', 'away', '!', 'very', 'charge', 'price', 'i', 'highly', 'install', 'figure']\n",
      "1 gram logistic regression score: 0.67500  with q = 100\n",
      "1 gram logistic regression confusion matrix: [[177, 123], [72, 228]]  with q = 100\n",
      "\n",
      "1 gram naive bayes score: 0.52500  with q = 100\n",
      "1 gram naive bayes confusion matrix: [[24, 276], [9, 291]]  with q = 100\n",
      "\n",
      "\n",
      "\n"
     ]
    }
   ],
   "source": [
    "repetition1GramQ([10,50,100])"
   ]
  },
  {
   "cell_type": "code",
   "execution_count": 434,
   "metadata": {},
   "outputs": [
    {
     "name": "stdout",
     "output_type": "stream",
     "text": [
      "the fist 15 important words are:  ['whoseear', 'ripby', 'againfor', 'noisecancel', 'andgo', 'best!', 'trulyawful', 'thesame', 'arelative', 'andgreat', 'mostlyit', 'confortableto', 'andcontact', 'fromthem', 'thesound']\n",
      "2 gram logistic regression score: 0.49500  with q = 10\n",
      "2 gram logistic regression confusion matrix: [[264, 36], [267, 33]]  with q = 10\n",
      "\n",
      "2 gram naive bayes score: 0.50000  with q = 10\n",
      "2 gram naive bayes confusion matrix: [[300, 0], [300, 0]]  with q = 10\n",
      "\n",
      "\n",
      "\n",
      "the fist 15 important words are:  ['whoseear', 'ripby', 'andgo', 'shieldbe', 'iwaste', 'thegenuine', 'openthere', 'mostlyit', 'qualitysound', 'againfor', 'ofwarranty', 'willprobably', 'receipti', 'andgreat', 'myfavorite']\n",
      "2 gram logistic regression score: 0.57333  with q = 50\n",
      "2 gram logistic regression confusion matrix: [[107, 193], [63, 237]]  with q = 50\n",
      "\n",
      "2 gram naive bayes score: 0.51500  with q = 50\n",
      "2 gram naive bayes confusion matrix: [[292, 8], [283, 17]]  with q = 50\n",
      "\n",
      "\n",
      "\n",
      "the fist 15 important words are:  ['whoseear', 'thegenuine', 'ripby', 'andgo', 'shieldbe', 'iwaste', 'fromthe', 'ofwarranty', 'qualitysound', 'receipti', 'justsuperb', 'againfor', 'openthere', 'justlove', 'willprobably']\n",
      "2 gram logistic regression score: 0.56667  with q = 100\n",
      "2 gram logistic regression confusion matrix: [[119, 181], [79, 221]]  with q = 100\n",
      "\n",
      "2 gram naive bayes score: 0.50333  with q = 100\n",
      "2 gram naive bayes confusion matrix: [[77, 223], [75, 225]]  with q = 100\n",
      "\n",
      "\n",
      "\n"
     ]
    }
   ],
   "source": [
    "repetition2GramQ([10,50,100])"
   ]
  },
  {
   "cell_type": "code",
   "execution_count": null,
   "metadata": {
    "collapsed": true
   },
   "outputs": [],
   "source": []
  }
 ],
 "metadata": {
  "kernelspec": {
   "display_name": "Python 2",
   "language": "python",
   "name": "python2"
  },
  "language_info": {
   "codemirror_mode": {
    "name": "ipython",
    "version": 2
   },
   "file_extension": ".py",
   "mimetype": "text/x-python",
   "name": "python",
   "nbconvert_exporter": "python",
   "pygments_lexer": "ipython2",
   "version": "2.7.14"
  }
 },
 "nbformat": 4,
 "nbformat_minor": 2
}
